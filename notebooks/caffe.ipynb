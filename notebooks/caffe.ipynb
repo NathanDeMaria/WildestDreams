{
 "cells": [
  {
   "cell_type": "markdown",
   "metadata": {},
   "source": [
    "# Installs\n",
    "Requirements above what I currently have in the Docker container"
   ]
  },
  {
   "cell_type": "code",
   "execution_count": 1,
   "metadata": {
    "collapsed": false,
    "scrolled": true
   },
   "outputs": [
    {
     "name": "stdout",
     "output_type": "stream",
     "text": [
      "Downloading/unpacking pydot\n",
      "  Downloading pydot-1.0.2.tar.gz\n",
      "  Running setup.py (path:/tmp/pip_build_root/pydot/setup.py) egg_info for package pydot\n",
      "    Couldn't import dot_parser, loading of dot files will not be possible.\n",
      "    \n",
      "Requirement already satisfied (use --upgrade to upgrade): h5py in /usr/local/lib/python2.7/dist-packages\n",
      "Downloading/unpacking lmdb\n",
      "  Downloading lmdb-0.87.tar.gz (143kB): 143kB downloaded\n",
      "  Running setup.py (path:/tmp/pip_build_root/lmdb/setup.py) egg_info for package lmdb\n",
      "    py-lmdb: Using bundled liblmdb; override with LMDB_FORCE_SYSTEM=1.\n",
      "    py-lmdb: Using CPython extension; override with LMDB_FORCE_CFFI=1.\n",
      "    \n",
      "    warning: no directories found matching '.'\n",
      "Requirement already satisfied (use --upgrade to upgrade): pyparsing in /usr/local/lib/python2.7/dist-packages (from pydot)\n",
      "Requirement already satisfied (use --upgrade to upgrade): setuptools in /usr/lib/python2.7/dist-packages (from pydot)\n",
      "Requirement already satisfied (use --upgrade to upgrade): numpy>=1.6.1 in /usr/local/lib/python2.7/dist-packages/numpy-1.9.1-py2.7-linux-x86_64.egg (from h5py)\n",
      "Requirement already satisfied (use --upgrade to upgrade): Cython>=0.17 in /usr/local/lib/python2.7/dist-packages (from h5py)\n",
      "Installing collected packages: pydot, lmdb\n",
      "  Running setup.py install for pydot\n",
      "    Couldn't import dot_parser, loading of dot files will not be possible.\n",
      "    \n",
      "  Running setup.py install for lmdb\n",
      "    py-lmdb: Using bundled liblmdb; override with LMDB_FORCE_SYSTEM=1.\n",
      "    py-lmdb: Using CPython extension; override with LMDB_FORCE_CFFI=1.\n",
      "    building 'cpython' extension\n",
      "    x86_64-linux-gnu-gcc -pthread -fno-strict-aliasing -DNDEBUG -g -fwrapv -O2 -Wall -Wstrict-prototypes -fPIC -Ilib/py-lmdb -Ilib -I/usr/include/python2.7 -c lmdb/cpython.c -o build/temp.linux-x86_64-2.7/lmdb/cpython.o -UNDEBUG -w\n",
      "    x86_64-linux-gnu-gcc -pthread -fno-strict-aliasing -DNDEBUG -g -fwrapv -O2 -Wall -Wstrict-prototypes -fPIC -Ilib/py-lmdb -Ilib -I/usr/include/python2.7 -c lib/mdb.c -o build/temp.linux-x86_64-2.7/lib/mdb.o -UNDEBUG -w\n",
      "    x86_64-linux-gnu-gcc -pthread -fno-strict-aliasing -DNDEBUG -g -fwrapv -O2 -Wall -Wstrict-prototypes -fPIC -Ilib/py-lmdb -Ilib -I/usr/include/python2.7 -c lib/midl.c -o build/temp.linux-x86_64-2.7/lib/midl.o -UNDEBUG -w\n",
      "    x86_64-linux-gnu-gcc -pthread -shared -Wl,-O1 -Wl,-Bsymbolic-functions -Wl,-Bsymbolic-functions -Wl,-z,relro -fno-strict-aliasing -DNDEBUG -g -fwrapv -O2 -Wall -Wstrict-prototypes -D_FORTIFY_SOURCE=2 -g -fstack-protector --param=ssp-buffer-size=4 -Wformat -Werror=format-security build/temp.linux-x86_64-2.7/lmdb/cpython.o build/temp.linux-x86_64-2.7/lib/mdb.o build/temp.linux-x86_64-2.7/lib/midl.o -o build/lib.linux-x86_64-2.7/lmdb/cpython.so\n",
      "    \n",
      "    warning: no directories found matching '.'\n",
      "Successfully installed pydot lmdb\n",
      "Cleaning up...\n",
      "Reading package lists... Done\n",
      "Building dependency tree       \n",
      "Reading state information... Done\n",
      "The following extra packages will be installed:\n",
      "  fonts-liberation libcdt5 libcgraph6 libgd3 libgvc6 libgvpr2 libpathplan4\n",
      "  libxaw7 libxpm4\n",
      "Suggested packages:\n",
      "  gsfonts graphviz-doc libgd-tools\n",
      "The following NEW packages will be installed:\n",
      "  fonts-liberation graphviz libcdt5 libcgraph6 libgd3 libgvc6 libgvpr2\n",
      "  libpathplan4 libxaw7 libxpm4\n",
      "0 upgraded, 10 newly installed, 0 to remove and 6 not upgraded.\n",
      "Need to get 2974 kB of archives.\n",
      "After this operation, 7868 kB of additional disk space will be used.\n",
      "Get:1 http://archive.ubuntu.com/ubuntu/ trusty/main libxpm4 amd64 1:3.5.10-1 [38.3 kB]\n",
      "Get:2 http://archive.ubuntu.com/ubuntu/ trusty/main libgd3 amd64 2.1.0-3 [147 kB]\n",
      "Get:3 http://archive.ubuntu.com/ubuntu/ trusty/main libxaw7 amd64 2:1.0.12-1 [168 kB]\n",
      "Get:4 http://archive.ubuntu.com/ubuntu/ trusty/main fonts-liberation all 1.07.3-3 [1320 kB]\n",
      "Get:5 http://archive.ubuntu.com/ubuntu/ trusty-updates/main libcdt5 amd64 2.36.0-0ubuntu3.1 [23.3 kB]\n",
      "Get:6 http://archive.ubuntu.com/ubuntu/ trusty-updates/main libcgraph6 amd64 2.36.0-0ubuntu3.1 [44.1 kB]\n",
      "Get:7 http://archive.ubuntu.com/ubuntu/ trusty-updates/main libpathplan4 amd64 2.36.0-0ubuntu3.1 [26.3 kB]\n",
      "Get:8 http://archive.ubuntu.com/ubuntu/ trusty-updates/main libgvc6 amd64 2.36.0-0ubuntu3.1 [576 kB]\n",
      "Get:9 http://archive.ubuntu.com/ubuntu/ trusty-updates/main libgvpr2 amd64 2.36.0-0ubuntu3.1 [169 kB]\n",
      "Get:10 http://archive.ubuntu.com/ubuntu/ trusty-updates/main graphviz amd64 2.36.0-0ubuntu3.1 [461 kB]\n",
      "Fetched 2974 kB in 3s (830 kB/s)\n",
      "Selecting previously unselected package libxpm4:amd64.\n",
      "(Reading database ... 42920 files and directories currently installed.)\n",
      "Preparing to unpack .../libxpm4_1%3a3.5.10-1_amd64.deb ...\n",
      "Unpacking libxpm4:amd64 (1:3.5.10-1) ...\n",
      "Selecting previously unselected package libgd3:amd64.\n",
      "Preparing to unpack .../libgd3_2.1.0-3_amd64.deb ...\n",
      "Unpacking libgd3:amd64 (2.1.0-3) ...\n",
      "Selecting previously unselected package libxaw7:amd64.\n",
      "Preparing to unpack .../libxaw7_2%3a1.0.12-1_amd64.deb ...\n",
      "Unpacking libxaw7:amd64 (2:1.0.12-1) ...\n",
      "Selecting previously unselected package fonts-liberation.\n",
      "Preparing to unpack .../fonts-liberation_1.07.3-3_all.deb ...\n",
      "Unpacking fonts-liberation (1.07.3-3) ...\n",
      "Selecting previously unselected package libcdt5.\n",
      "Preparing to unpack .../libcdt5_2.36.0-0ubuntu3.1_amd64.deb ...\n",
      "Unpacking libcdt5 (2.36.0-0ubuntu3.1) ...\n",
      "Selecting previously unselected package libcgraph6.\n",
      "Preparing to unpack .../libcgraph6_2.36.0-0ubuntu3.1_amd64.deb ...\n",
      "Unpacking libcgraph6 (2.36.0-0ubuntu3.1) ...\n",
      "Selecting previously unselected package libpathplan4.\n",
      "Preparing to unpack .../libpathplan4_2.36.0-0ubuntu3.1_amd64.deb ...\n",
      "Unpacking libpathplan4 (2.36.0-0ubuntu3.1) ...\n",
      "Selecting previously unselected package libgvc6.\n",
      "Preparing to unpack .../libgvc6_2.36.0-0ubuntu3.1_amd64.deb ...\n",
      "Unpacking libgvc6 (2.36.0-0ubuntu3.1) ...\n",
      "Selecting previously unselected package libgvpr2.\n",
      "Preparing to unpack .../libgvpr2_2.36.0-0ubuntu3.1_amd64.deb ...\n",
      "Unpacking libgvpr2 (2.36.0-0ubuntu3.1) ...\n",
      "Selecting previously unselected package graphviz.\n",
      "Preparing to unpack .../graphviz_2.36.0-0ubuntu3.1_amd64.deb ...\n",
      "Unpacking graphviz (2.36.0-0ubuntu3.1) ...\n",
      "Processing triggers for fontconfig (2.11.0-0ubuntu4.1) ...\n",
      "Processing triggers for man-db (2.6.7.1-1ubuntu1) ...\n",
      "Setting up libxpm4:amd64 (1:3.5.10-1) ...\n",
      "Setting up libgd3:amd64 (2.1.0-3) ...\n",
      "Setting up libxaw7:amd64 (2:1.0.12-1) ...\n",
      "Setting up fonts-liberation (1.07.3-3) ...\n",
      "Setting up libcdt5 (2.36.0-0ubuntu3.1) ...\n",
      "Setting up libcgraph6 (2.36.0-0ubuntu3.1) ...\n",
      "Setting up libpathplan4 (2.36.0-0ubuntu3.1) ...\n",
      "Setting up libgvc6 (2.36.0-0ubuntu3.1) ...\n",
      "Setting up libgvpr2 (2.36.0-0ubuntu3.1) ...\n",
      "Setting up graphviz (2.36.0-0ubuntu3.1) ...\n",
      "Processing triggers for libc-bin (2.19-0ubuntu6.5) ...\n",
      "Requirement already satisfied (use --upgrade to upgrade): jinja2 in /usr/local/lib/python2.7/dist-packages\n",
      "Cleaning up...\n"
     ]
    }
   ],
   "source": [
    "!pip install pydot h5py lmdb\n",
    "!apt-get install -y graphviz\n",
    "!pip install jinja2"
   ]
  },
  {
   "cell_type": "code",
   "execution_count": 1,
   "metadata": {
    "collapsed": false
   },
   "outputs": [],
   "source": [
    "import caffe\n",
    "import numpy as np\n",
    "import sys\n",
    "\n",
    "sys.path.append('..')\n",
    "\n",
    "from prototxt import write_files\n",
    "from data import read_data, format_data, split_train_test, write_lmdb\n",
    "from global_params import DEPLOY_PROTOTXT, IMAGES, LMDB_NAME, PIXELS, TEAMS, SOLVER_PROTOTXT, BATCH_SIZE"
   ]
  },
  {
   "cell_type": "markdown",
   "metadata": {},
   "source": [
    "# Data"
   ]
  },
  {
   "cell_type": "markdown",
   "metadata": {},
   "source": [
    "Read the data from raw image files"
   ]
  },
  {
   "cell_type": "code",
   "execution_count": 2,
   "metadata": {
    "collapsed": false
   },
   "outputs": [],
   "source": [
    "images, y = read_data(IMAGES, PIXELS, TEAMS)\n",
    "X = format_data(images)"
   ]
  },
  {
   "cell_type": "markdown",
   "metadata": {},
   "source": [
    "Split into training and testing data sets"
   ]
  },
  {
   "cell_type": "code",
   "execution_count": 3,
   "metadata": {
    "collapsed": true
   },
   "outputs": [],
   "source": [
    "X_train, y_train, X_test, y_test = split_train_test(X, np.array(y))"
   ]
  },
  {
   "cell_type": "code",
   "execution_count": 4,
   "metadata": {
    "collapsed": true
   },
   "outputs": [],
   "source": [
    "write_lmdb(LMDB_NAME, X_train, y_train)"
   ]
  },
  {
   "cell_type": "markdown",
   "metadata": {},
   "source": [
    "# Training"
   ]
  },
  {
   "cell_type": "markdown",
   "metadata": {},
   "source": [
    "Write necessary caffe files"
   ]
  },
  {
   "cell_type": "code",
   "execution_count": 5,
   "metadata": {
    "collapsed": false
   },
   "outputs": [],
   "source": [
    "write_files()"
   ]
  },
  {
   "cell_type": "markdown",
   "metadata": {},
   "source": [
    "Actually train the network"
   ]
  },
  {
   "cell_type": "code",
   "execution_count": null,
   "metadata": {
    "collapsed": true
   },
   "outputs": [],
   "source": [
    "caffe.set_mode_cpu()\n",
    "solver = caffe.get_solver(SOLVER_PROTOTXT)\n",
    "solver.solve()"
   ]
  },
  {
   "cell_type": "markdown",
   "metadata": {},
   "source": [
    "# Predictions"
   ]
  },
  {
   "cell_type": "code",
   "execution_count": 14,
   "metadata": {
    "collapsed": true
   },
   "outputs": [],
   "source": [
    "caffemodel = 'football_iter_500.caffemodel'"
   ]
  },
  {
   "cell_type": "code",
   "execution_count": 15,
   "metadata": {
    "collapsed": true
   },
   "outputs": [],
   "source": [
    "net = caffe.Net(DEPLOY_PROTOTXT, caffemodel, caffe.TEST)"
   ]
  },
  {
   "cell_type": "code",
   "execution_count": 19,
   "metadata": {
    "collapsed": true
   },
   "outputs": [],
   "source": [
    "def get_predictions(net, input_data):\n",
    "    \"\"\"\n",
    "    :param net: caffe.Net object\n",
    "    :param input_data: batch of images in their final format\n",
    "    :return: index of predicted team\n",
    "    \"\"\"\n",
    "    out = net.forward(data=input_data)\n",
    "    probabilities = np.squeeze(out[net.outputs[0]])\n",
    "    return probabilities.argmax(axis=1)"
   ]
  },
  {
   "cell_type": "code",
   "execution_count": 27,
   "metadata": {
    "collapsed": true
   },
   "outputs": [],
   "source": [
    "predictions = np.arange(0)\n",
    "# If the test set isn't a multiple of BATCH_SIZE, the remainder gets left off. Sorry. :)\n",
    "for start_index in range(0, X_test.shape[0] + 1, BATCH_SIZE)[:-1]:\n",
    "    preds = get_predictions(net, X_test[start_index:(start_index + BATCH_SIZE)])\n",
    "    predictions = np.append(predictions, preds)"
   ]
  },
  {
   "cell_type": "code",
   "execution_count": 39,
   "metadata": {
    "collapsed": false
   },
   "outputs": [
    {
     "name": "stdout",
     "output_type": "stream",
     "text": [
      "Accuracy: 0.134\n"
     ]
    }
   ],
   "source": [
    "print \"Accuracy: {0:.3f}\".format((predictions == y_test[:len(predictions)]).mean())"
   ]
  },
  {
   "cell_type": "code",
   "execution_count": 28,
   "metadata": {
    "collapsed": true
   },
   "outputs": [],
   "source": [
    "import matplotlib.pyplot as plt\n",
    "from sklearn.metrics import confusion_matrix\n",
    "%matplotlib inline"
   ]
  },
  {
   "cell_type": "code",
   "execution_count": 29,
   "metadata": {
    "collapsed": true
   },
   "outputs": [],
   "source": [
    "confusion = confusion_matrix(predictions, y_test[:len(predictions)])"
   ]
  },
  {
   "cell_type": "code",
   "execution_count": 30,
   "metadata": {
    "collapsed": false
   },
   "outputs": [
    {
     "data": {
      "text/plain": [
       "<matplotlib.image.AxesImage at 0x7f76ff23ea10>"
      ]
     },
     "execution_count": 30,
     "metadata": {},
     "output_type": "execute_result"
    },
    {
     "data": {
      "image/png": "[encoded data removed]"
     },
     "metadata": {},
     "output_type": "display_data"
    }
   ],
   "source": [
    "plt.matshow(confusion, cmap=plt.cm.Blues)"
   ]
  },
  {
   "cell_type": "code",
   "execution_count": null,
   "metadata": {
    "collapsed": true
   },
   "outputs": [],
   "source": []
  }
 ],
 "metadata": {
  "kernelspec": {
   "display_name": "Python 2",
   "language": "python",
   "name": "python2"
  },
  "language_info": {
   "codemirror_mode": {
    "name": "ipython",
    "version": 2
   },
   "file_extension": ".py",
   "mimetype": "text/x-python",
   "name": "python",
   "nbconvert_exporter": "python",
   "pygments_lexer": "ipython2",
   "version": "2.7.6"
  }
 },
 "nbformat": 4,
 "nbformat_minor": 0
}
